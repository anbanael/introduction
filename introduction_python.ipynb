{
 "cells": [
  {
   "cell_type": "markdown",
   "id": "a668aa34",
   "metadata": {},
   "source": [
    "### Introduction to Python Programming"
   ]
  },
  {
   "cell_type": "markdown",
   "id": "977bd30f",
   "metadata": {},
   "source": [
    "###### 18/10/2021"
   ]
  },
  {
   "cell_type": "code",
   "execution_count": 208,
   "id": "4846cc5b",
   "metadata": {},
   "outputs": [],
   "source": [
    "a=3\n"
   ]
  },
  {
   "cell_type": "code",
   "execution_count": 209,
   "id": "af069334",
   "metadata": {},
   "outputs": [
    {
     "data": {
      "text/plain": [
       "3"
      ]
     },
     "execution_count": 209,
     "metadata": {},
     "output_type": "execute_result"
    }
   ],
   "source": [
    "a"
   ]
  },
  {
   "cell_type": "code",
   "execution_count": 210,
   "id": "1ace4ec5",
   "metadata": {},
   "outputs": [],
   "source": [
    "b=5"
   ]
  },
  {
   "cell_type": "code",
   "execution_count": 211,
   "id": "88b83b81",
   "metadata": {},
   "outputs": [],
   "source": [
    "c=a+b"
   ]
  },
  {
   "cell_type": "code",
   "execution_count": 212,
   "id": "c35254b6",
   "metadata": {},
   "outputs": [
    {
     "data": {
      "text/plain": [
       "8"
      ]
     },
     "execution_count": 212,
     "metadata": {},
     "output_type": "execute_result"
    }
   ],
   "source": [
    "c"
   ]
  },
  {
   "cell_type": "code",
   "execution_count": 213,
   "id": "ab3321d4",
   "metadata": {},
   "outputs": [
    {
     "data": {
      "text/plain": [
       "64"
      ]
     },
     "execution_count": 213,
     "metadata": {},
     "output_type": "execute_result"
    }
   ],
   "source": [
    "c**2"
   ]
  },
  {
   "cell_type": "code",
   "execution_count": 214,
   "id": "dc1cfa86",
   "metadata": {},
   "outputs": [],
   "source": [
    "import this"
   ]
  },
  {
   "cell_type": "code",
   "execution_count": 215,
   "id": "dc88b7b2",
   "metadata": {},
   "outputs": [
    {
     "name": "stdout",
     "output_type": "stream",
     "text": [
      "Input a binary number: \n",
      "The decimal value of the number is 0\n"
     ]
    }
   ],
   "source": [
    "b_num = list(input(\"Input a binary number: \"))\n",
    "value = 0\n",
    "\n",
    "for i in range(len(b_num)):\n",
    "\tdigit = b_num.pop()\n",
    "\tif digit == '1':\n",
    "\t\tvalue = value + 2**i\n",
    "print(\"The decimal value of the number is\", value)"
   ]
  },
  {
   "cell_type": "code",
   "execution_count": 216,
   "id": "2a37e112",
   "metadata": {},
   "outputs": [
    {
     "name": "stdout",
     "output_type": "stream",
     "text": [
      "['False', 'None', 'True', 'and', 'as', 'assert', 'async', 'await', 'break', 'class', 'continue', 'def', 'del', 'elif', 'else', 'except', 'finally', 'for', 'from', 'global', 'if', 'import', 'in', 'is', 'lambda', 'nonlocal', 'not', 'or', 'pass', 'raise', 'return', 'try', 'while', 'with', 'yield']\n"
     ]
    }
   ],
   "source": [
    "import keyword\n",
    "print(keyword.kwlist)"
   ]
  },
  {
   "cell_type": "markdown",
   "id": "55123528",
   "metadata": {},
   "source": [
    "# Python-syntax"
   ]
  },
  {
   "cell_type": "code",
   "execution_count": 217,
   "id": "0adc1023",
   "metadata": {},
   "outputs": [
    {
     "name": "stdout",
     "output_type": "stream",
     "text": [
      "lower: [0, 1, 2, 3, 4]\n",
      "upper: [5, 6, 7, 8, 9]\n"
     ]
    }
   ],
   "source": [
    "# set the midpoint\n",
    "midpoint = 5\n",
    "\n",
    "# make two empty lists\n",
    "lower = []; upper = []\n",
    "\n",
    "# split the numbers into lower and upper\n",
    "for i in range(10):\n",
    "    if (i < midpoint):\n",
    "        lower.append(i)\n",
    "    else:\n",
    "        upper.append(i)\n",
    "        \n",
    "print(\"lower:\", lower)\n",
    "print(\"upper:\", upper)"
   ]
  },
  {
   "cell_type": "code",
   "execution_count": 218,
   "id": "23d2a833",
   "metadata": {},
   "outputs": [
    {
     "name": "stdout",
     "output_type": "stream",
     "text": [
      "2 4\n"
     ]
    }
   ],
   "source": [
    "x=2\n",
    "if x<4:\n",
    "    y=x*2\n",
    "    print(x,y)"
   ]
  },
  {
   "cell_type": "code",
   "execution_count": 219,
   "id": "a554c249",
   "metadata": {},
   "outputs": [],
   "source": [
    "del x,y"
   ]
  },
  {
   "cell_type": "code",
   "execution_count": 220,
   "id": "75bb04df",
   "metadata": {},
   "outputs": [
    {
     "ename": "NameError",
     "evalue": "name 'y' is not defined",
     "output_type": "error",
     "traceback": [
      "\u001b[1;31m---------------------------------------------------------------------------\u001b[0m",
      "\u001b[1;31mNameError\u001b[0m                                 Traceback (most recent call last)",
      "\u001b[1;32m<ipython-input-220-8ad7b3912adb>\u001b[0m in \u001b[0;36m<module>\u001b[1;34m\u001b[0m\n\u001b[0;32m      3\u001b[0m \u001b[1;32mif\u001b[0m \u001b[0mx\u001b[0m\u001b[1;33m<\u001b[0m\u001b[1;36m4\u001b[0m\u001b[1;33m:\u001b[0m\u001b[1;33m\u001b[0m\u001b[1;33m\u001b[0m\u001b[0m\n\u001b[0;32m      4\u001b[0m     \u001b[0my\u001b[0m\u001b[1;33m=\u001b[0m\u001b[0mx\u001b[0m\u001b[1;33m*\u001b[0m\u001b[1;36m2\u001b[0m\u001b[1;33m\u001b[0m\u001b[1;33m\u001b[0m\u001b[0m\n\u001b[1;32m----> 5\u001b[1;33m \u001b[0mprint\u001b[0m\u001b[1;33m(\u001b[0m\u001b[0mx\u001b[0m\u001b[1;33m,\u001b[0m\u001b[0my\u001b[0m\u001b[1;33m)\u001b[0m\u001b[1;33m\u001b[0m\u001b[1;33m\u001b[0m\u001b[0m\n\u001b[0m",
      "\u001b[1;31mNameError\u001b[0m: name 'y' is not defined"
     ]
    }
   ],
   "source": [
    "#indentation is important!\n",
    "x=5\n",
    "if x<4:\n",
    "    y=x*2\n",
    "print(x,y)"
   ]
  },
  {
   "cell_type": "code",
   "execution_count": null,
   "id": "7ff06548",
   "metadata": {},
   "outputs": [],
   "source": [
    "x = 5\n",
    "y = 23\n",
    "if x == 3: \n",
    "    print(x)\n",
    "else:\n",
    "    print(y)"
   ]
  },
  {
   "cell_type": "code",
   "execution_count": null,
   "id": "cc13a17c",
   "metadata": {},
   "outputs": [],
   "source": [
    "#doesnt matter:\n",
    "x=1+2\n",
    "x = 1 + 2\n",
    "x    =        1         +         2"
   ]
  },
  {
   "cell_type": "code",
   "execution_count": null,
   "id": "2c80dba7",
   "metadata": {},
   "outputs": [],
   "source": [
    "x = (1 + 2 + 3 + 4 + 5 +\n",
    "     6 + 7 + 8 + 9)"
   ]
  },
  {
   "cell_type": "code",
   "execution_count": null,
   "id": "0dab0455",
   "metadata": {},
   "outputs": [],
   "source": [
    "x"
   ]
  },
  {
   "cell_type": "code",
   "execution_count": null,
   "id": "daf7e855",
   "metadata": {},
   "outputs": [],
   "source": [
    "x = 1 + 2 + 3 + 4 + 5 \\\n",
    "    + 6 + 7 + 8 + 9 + 10"
   ]
  },
  {
   "cell_type": "code",
   "execution_count": null,
   "id": "8e4615d7",
   "metadata": {},
   "outputs": [],
   "source": [
    "x"
   ]
  },
  {
   "cell_type": "code",
   "execution_count": null,
   "id": "d9a5c6b9",
   "metadata": {},
   "outputs": [],
   "source": [
    "L = [5, 2, 1, 3, 6]"
   ]
  },
  {
   "cell_type": "code",
   "execution_count": null,
   "id": "ca1fa890",
   "metadata": {},
   "outputs": [],
   "source": [
    "help(L.sort)"
   ]
  },
  {
   "cell_type": "code",
   "execution_count": null,
   "id": "82761bfc",
   "metadata": {},
   "outputs": [],
   "source": [
    "L.sort()"
   ]
  },
  {
   "cell_type": "code",
   "execution_count": null,
   "id": "c3d16631",
   "metadata": {},
   "outputs": [],
   "source": [
    "dir(L)"
   ]
  },
  {
   "cell_type": "code",
   "execution_count": null,
   "id": "c141b8ce",
   "metadata": {},
   "outputs": [],
   "source": [
    "print(L)"
   ]
  },
  {
   "cell_type": "markdown",
   "id": "e5845fca",
   "metadata": {},
   "source": [
    "### Variables and Objects"
   ]
  },
  {
   "cell_type": "code",
   "execution_count": null,
   "id": "a075d50e",
   "metadata": {},
   "outputs": [],
   "source": [
    "x = 4\n",
    "x = 'text'"
   ]
  },
  {
   "cell_type": "code",
   "execution_count": null,
   "id": "c14f93e8",
   "metadata": {},
   "outputs": [],
   "source": [
    "x"
   ]
  },
  {
   "cell_type": "code",
   "execution_count": null,
   "id": "1277b342",
   "metadata": {},
   "outputs": [],
   "source": [
    "print(x)"
   ]
  },
  {
   "cell_type": "code",
   "execution_count": null,
   "id": "2da0ae66",
   "metadata": {},
   "outputs": [],
   "source": [
    "x = [2, 3, 1]\n",
    "x.sort()\n",
    "y = x \n",
    "x.append(4)\n",
    "print(x)\n",
    "print(y)"
   ]
  },
  {
   "cell_type": "code",
   "execution_count": null,
   "id": "e3efe86c",
   "metadata": {},
   "outputs": [],
   "source": [
    "x = 'Oleg'\n",
    "y = 'Muratov'\n",
    "x.append(y)\n",
    "print(x)"
   ]
  },
  {
   "cell_type": "code",
   "execution_count": null,
   "id": "44c25f7b",
   "metadata": {},
   "outputs": [],
   "source": [
    "x = 10\n",
    "y = x\n",
    "x = x + 5\n",
    "print(x)\n",
    "print(y)"
   ]
  },
  {
   "cell_type": "code",
   "execution_count": null,
   "id": "5d36580c",
   "metadata": {},
   "outputs": [],
   "source": [
    "x = ['Oleg']\n",
    "y = ['Muratov']\n",
    "x.append(y)\n",
    "print(x)"
   ]
  },
  {
   "cell_type": "code",
   "execution_count": null,
   "id": "2465ee3d",
   "metadata": {},
   "outputs": [],
   "source": [
    "x = 4\n",
    "type(x)"
   ]
  },
  {
   "cell_type": "code",
   "execution_count": null,
   "id": "953bbe19",
   "metadata": {},
   "outputs": [],
   "source": [
    "x = 'Linn'\n",
    "type(x)"
   ]
  },
  {
   "cell_type": "code",
   "execution_count": null,
   "id": "ac8e3346",
   "metadata": {},
   "outputs": [],
   "source": [
    "x = 4.3\n",
    "type(x)"
   ]
  },
  {
   "cell_type": "code",
   "execution_count": null,
   "id": "ac87e68d",
   "metadata": {},
   "outputs": [],
   "source": [
    "x = ['Anna', 'Linn', 'Oleg']\n",
    "type(x)"
   ]
  },
  {
   "cell_type": "code",
   "execution_count": null,
   "id": "a94d6b7a",
   "metadata": {},
   "outputs": [],
   "source": [
    "x = 3.4\n",
    "x.is_integer()"
   ]
  },
  {
   "cell_type": "code",
   "execution_count": null,
   "id": "279b507c",
   "metadata": {},
   "outputs": [],
   "source": [
    "x.imag"
   ]
  },
  {
   "cell_type": "code",
   "execution_count": null,
   "id": "d030422a",
   "metadata": {},
   "outputs": [],
   "source": [
    "# true division\n",
    "print(11 / 2)"
   ]
  },
  {
   "cell_type": "code",
   "execution_count": null,
   "id": "7841fafb",
   "metadata": {},
   "outputs": [],
   "source": [
    "# floor division\n",
    "print(11 // 2)"
   ]
  },
  {
   "cell_type": "code",
   "execution_count": null,
   "id": "2067a6d0",
   "metadata": {},
   "outputs": [],
   "source": [
    "x = 7\n",
    "if x%2 == 0:\n",
    "    print(\"The number is even\")\n",
    "else:\n",
    "    print(\"The number is odd\")"
   ]
  },
  {
   "cell_type": "code",
   "execution_count": null,
   "id": "656badde",
   "metadata": {},
   "outputs": [],
   "source": [
    "bin(10)"
   ]
  },
  {
   "cell_type": "code",
   "execution_count": null,
   "id": "1979eee0",
   "metadata": {},
   "outputs": [],
   "source": [
    "4 | 10"
   ]
  },
  {
   "cell_type": "code",
   "execution_count": 221,
   "id": "32326d07",
   "metadata": {},
   "outputs": [
    {
     "data": {
      "text/plain": [
       "31"
      ]
     },
     "execution_count": 221,
     "metadata": {},
     "output_type": "execute_result"
    }
   ],
   "source": [
    "4 | 5 | 23 | 12"
   ]
  },
  {
   "cell_type": "code",
   "execution_count": 222,
   "id": "dc8263e9",
   "metadata": {},
   "outputs": [
    {
     "data": {
      "text/plain": [
       "10"
      ]
     },
     "execution_count": 222,
     "metadata": {},
     "output_type": "execute_result"
    }
   ],
   "source": [
    "2 | 10"
   ]
  },
  {
   "cell_type": "code",
   "execution_count": 223,
   "id": "13b54576",
   "metadata": {},
   "outputs": [
    {
     "data": {
      "text/plain": [
       "15"
      ]
     },
     "execution_count": 223,
     "metadata": {},
     "output_type": "execute_result"
    }
   ],
   "source": [
    "5 | 10"
   ]
  },
  {
   "cell_type": "code",
   "execution_count": 224,
   "id": "1b819d7e",
   "metadata": {},
   "outputs": [
    {
     "data": {
      "text/plain": [
       "'0b10'"
      ]
     },
     "execution_count": 224,
     "metadata": {},
     "output_type": "execute_result"
    }
   ],
   "source": [
    "bin(2)"
   ]
  },
  {
   "cell_type": "code",
   "execution_count": 225,
   "id": "9074f34c",
   "metadata": {},
   "outputs": [
    {
     "data": {
      "text/plain": [
       "'0b1010'"
      ]
     },
     "execution_count": 225,
     "metadata": {},
     "output_type": "execute_result"
    }
   ],
   "source": [
    "bin(10)"
   ]
  },
  {
   "cell_type": "markdown",
   "id": "130b30c2",
   "metadata": {},
   "source": [
    "### Identity Operator"
   ]
  },
  {
   "cell_type": "code",
   "execution_count": 226,
   "id": "b9e4a6c8",
   "metadata": {},
   "outputs": [],
   "source": [
    "a = 2\n",
    "b = 2"
   ]
  },
  {
   "cell_type": "code",
   "execution_count": 227,
   "id": "90a2ca20",
   "metadata": {},
   "outputs": [
    {
     "data": {
      "text/plain": [
       "True"
      ]
     },
     "execution_count": 227,
     "metadata": {},
     "output_type": "execute_result"
    }
   ],
   "source": [
    "a == b"
   ]
  },
  {
   "cell_type": "code",
   "execution_count": 228,
   "id": "86eef365",
   "metadata": {},
   "outputs": [
    {
     "data": {
      "text/plain": [
       "True"
      ]
     },
     "execution_count": 228,
     "metadata": {},
     "output_type": "execute_result"
    }
   ],
   "source": [
    "a is b"
   ]
  },
  {
   "cell_type": "code",
   "execution_count": 229,
   "id": "6ebf9ca3",
   "metadata": {},
   "outputs": [
    {
     "data": {
      "text/plain": [
       "False"
      ]
     },
     "execution_count": 229,
     "metadata": {},
     "output_type": "execute_result"
    }
   ],
   "source": [
    "a is not b"
   ]
  },
  {
   "cell_type": "code",
   "execution_count": 230,
   "id": "e662d809",
   "metadata": {},
   "outputs": [
    {
     "data": {
      "text/plain": [
       "True"
      ]
     },
     "execution_count": 230,
     "metadata": {},
     "output_type": "execute_result"
    }
   ],
   "source": [
    "a = [1 , 2, 3]\n",
    "b = a\n",
    "a is b"
   ]
  },
  {
   "cell_type": "markdown",
   "id": "924d9fff",
   "metadata": {},
   "source": [
    "### Exercises"
   ]
  },
  {
   "cell_type": "markdown",
   "id": "e74c7039",
   "metadata": {},
   "source": [
    "#### Exercise 1"
   ]
  },
  {
   "cell_type": "code",
   "execution_count": 231,
   "id": "63caa319",
   "metadata": {},
   "outputs": [
    {
     "name": "stdout",
     "output_type": "stream",
     "text": [
      "The half of x is 3.5\n"
     ]
    }
   ],
   "source": [
    "x = 7 # assigns the value 7 to the variable x\n",
    "if x % 2 == 0: # checks whether x is a multiple of 2\n",
    "    print(x, 'is even.')\n",
    "x /= 2 # divides x by 2\n",
    "print('The half of x is', x)"
   ]
  },
  {
   "cell_type": "markdown",
   "id": "a765f849",
   "metadata": {},
   "source": [
    "#### Exercise 2"
   ]
  },
  {
   "cell_type": "code",
   "execution_count": 232,
   "id": "aa0778fa",
   "metadata": {},
   "outputs": [
    {
     "name": "stdout",
     "output_type": "stream",
     "text": [
      "x = ['apples', 'pears', 'grapes']\n",
      "y = ['apples', 'pears', 'grapes']\n"
     ]
    }
   ],
   "source": [
    "x = ['apples', 'pears']\n",
    "y = x\n",
    "y.append('grapes')\n",
    "print('x =', x)\n",
    "print('y =', y)"
   ]
  },
  {
   "cell_type": "code",
   "execution_count": 233,
   "id": "831a32cb",
   "metadata": {},
   "outputs": [
    {
     "name": "stdout",
     "output_type": "stream",
     "text": [
      "x = ['apples', 'pears', 'grapes']\n",
      "y = ['apples', 'pears', 'grapes']\n"
     ]
    }
   ],
   "source": [
    "x = ['apples', 'pears']\n",
    "y = x\n",
    "x.append('grapes')\n",
    "print('x =', x)\n",
    "print('y =', y)"
   ]
  },
  {
   "cell_type": "code",
   "execution_count": 234,
   "id": "6e052023",
   "metadata": {},
   "outputs": [
    {
     "data": {
      "text/plain": [
       "['Chrischee', 'is', 'AMAZING.']"
      ]
     },
     "execution_count": 234,
     "metadata": {},
     "output_type": "execute_result"
    }
   ],
   "source": [
    "x = ['Chrischee']\n",
    "x.append('is')\n",
    "y = x\n",
    "y.append('AMAZING.')\n",
    "y"
   ]
  },
  {
   "cell_type": "code",
   "execution_count": null,
   "id": "1d9f0959",
   "metadata": {},
   "outputs": [],
   "source": []
  },
  {
   "cell_type": "code",
   "execution_count": 235,
   "id": "3361ddba",
   "metadata": {},
   "outputs": [
    {
     "name": "stdout",
     "output_type": "stream",
     "text": [
      "x = 7\n",
      "y = 5\n"
     ]
    }
   ],
   "source": [
    "x = 5\n",
    "y = x\n",
    "x = x + 2\n",
    "print('x =', x)\n",
    "print('y =', y)"
   ]
  },
  {
   "cell_type": "code",
   "execution_count": 236,
   "id": "1d67e082",
   "metadata": {},
   "outputs": [
    {
     "name": "stdout",
     "output_type": "stream",
     "text": [
      "x = [1, 2]\n",
      "y = ['apples', 'pears']\n"
     ]
    }
   ],
   "source": [
    "x = ['apples', 'pears']\n",
    "y = x\n",
    "x = [1, 2]\n",
    "print('x =', x)\n",
    "print('y =', y)"
   ]
  },
  {
   "cell_type": "markdown",
   "id": "e1c45f26",
   "metadata": {},
   "source": [
    "#### Exercise 3\n",
    "\n",
    "By combining operations test whether the value of a previously defined variable x\n",
    "\n",
    "1. is in the interval (3, 7],\n",
    "2. is even,\n",
    "3. gives a remainder of 3 after division by 4, and print out the result of your tests"
   ]
  },
  {
   "cell_type": "code",
   "execution_count": 237,
   "id": "c7b0b131",
   "metadata": {},
   "outputs": [
    {
     "ename": "NameError",
     "evalue": "name 'interval' is not defined",
     "output_type": "error",
     "traceback": [
      "\u001b[1;31m---------------------------------------------------------------------------\u001b[0m",
      "\u001b[1;31mNameError\u001b[0m                                 Traceback (most recent call last)",
      "\u001b[1;32m<ipython-input-237-1572b09046d5>\u001b[0m in \u001b[0;36m<module>\u001b[1;34m\u001b[0m\n\u001b[0;32m      1\u001b[0m \u001b[1;31m# 1)\u001b[0m\u001b[1;33m\u001b[0m\u001b[1;33m\u001b[0m\u001b[1;33m\u001b[0m\u001b[0m\n\u001b[0;32m      2\u001b[0m \u001b[0mx\u001b[0m \u001b[1;33m=\u001b[0m \u001b[1;36m5\u001b[0m\u001b[1;33m\u001b[0m\u001b[1;33m\u001b[0m\u001b[0m\n\u001b[1;32m----> 3\u001b[1;33m \u001b[1;32mif\u001b[0m \u001b[0mx\u001b[0m \u001b[1;32min\u001b[0m \u001b[0minterval\u001b[0m\u001b[1;33m[\u001b[0m\u001b[1;36m3\u001b[0m\u001b[1;33m,\u001b[0m \u001b[1;36m7\u001b[0m\u001b[1;33m]\u001b[0m\u001b[1;33m:\u001b[0m\u001b[1;33m\u001b[0m\u001b[1;33m\u001b[0m\u001b[0m\n\u001b[0m\u001b[0;32m      4\u001b[0m     \u001b[0mprint\u001b[0m\u001b[1;33m(\u001b[0m\u001b[1;34m'x is in the interval (3,7]'\u001b[0m\u001b[1;33m)\u001b[0m\u001b[1;33m\u001b[0m\u001b[1;33m\u001b[0m\u001b[0m\n\u001b[0;32m      5\u001b[0m \u001b[1;32melse\u001b[0m\u001b[1;33m:\u001b[0m\u001b[1;33m\u001b[0m\u001b[1;33m\u001b[0m\u001b[0m\n",
      "\u001b[1;31mNameError\u001b[0m: name 'interval' is not defined"
     ]
    }
   ],
   "source": [
    "# 1)\n",
    "x = 5\n",
    "if x in interval[3, 7]:\n",
    "    print('x is in the interval (3,7]')\n",
    "else:\n",
    "    print('x is not in the interval (3,7]')"
   ]
  },
  {
   "cell_type": "code",
   "execution_count": 238,
   "id": "7620f5f2",
   "metadata": {},
   "outputs": [
    {
     "data": {
      "text/plain": [
       "False"
      ]
     },
     "execution_count": 238,
     "metadata": {},
     "output_type": "execute_result"
    }
   ],
   "source": [
    "# 1)\n",
    "x = 8\n",
    "x>3 and x<=7"
   ]
  },
  {
   "cell_type": "code",
   "execution_count": 239,
   "id": "8d6b0fc6",
   "metadata": {},
   "outputs": [
    {
     "name": "stdout",
     "output_type": "stream",
     "text": [
      "x is in the interval (3,7]\n"
     ]
    }
   ],
   "source": [
    "# 1)\n",
    "x = 5\n",
    "if (x > 3) and (x <= 7):\n",
    "    print('x is in the interval (3,7]')\n",
    "else:\n",
    "    print('x is not in the interval (3,7]')"
   ]
  },
  {
   "cell_type": "code",
   "execution_count": 240,
   "id": "1fe63c7a",
   "metadata": {},
   "outputs": [
    {
     "name": "stdout",
     "output_type": "stream",
     "text": [
      "4 is in the interval (3,7]\n",
      "4 is in the interval (3,7]\n"
     ]
    }
   ],
   "source": [
    "# 1)\n",
    "x = 4\n",
    "if (3 < x) and (x <= 7):\n",
    "    print(x, 'is in the interval (3,7]')\n",
    "    print(f'{x} is in the interval (3,7]')"
   ]
  },
  {
   "cell_type": "code",
   "execution_count": 241,
   "id": "f63d3828",
   "metadata": {},
   "outputs": [
    {
     "name": "stdout",
     "output_type": "stream",
     "text": [
      "5 is odd\n"
     ]
    }
   ],
   "source": [
    "# 2)\n",
    "x = 5\n",
    "if x%2 == 0:\n",
    "    print(f'{x} is even')\n",
    "elif x%2 == 1:\n",
    "    print(f'{x} is odd')"
   ]
  },
  {
   "cell_type": "code",
   "execution_count": 242,
   "id": "e3c0572b",
   "metadata": {},
   "outputs": [
    {
     "data": {
      "text/plain": [
       "True"
      ]
     },
     "execution_count": 242,
     "metadata": {},
     "output_type": "execute_result"
    }
   ],
   "source": [
    "# 3)\n",
    "x = 23\n",
    "x % 4 == 3"
   ]
  },
  {
   "cell_type": "code",
   "execution_count": 243,
   "id": "c99d9573",
   "metadata": {},
   "outputs": [
    {
     "name": "stdout",
     "output_type": "stream",
     "text": [
      "3\n"
     ]
    }
   ],
   "source": [
    "print (x%4)"
   ]
  },
  {
   "cell_type": "markdown",
   "id": "d1ff8afc",
   "metadata": {},
   "source": [
    "#### Exercise 4\n",
    "\n",
    "Calculate the maximal value of a house for which you could get a loan from a bank in Switzerland by using the following formula\n",
    "\n",
    "$$V = \\frac{(B-U)\\cdot\\frac{1}{r}\\cdot\\left(1-\\frac{1}{(1+r)^n}\\right)}{\\frac{2}{15}+\\frac{2}{3}\\cdot\\left(1-\\frac{1}{(1+r)^n}\\right)},$$, \n",
    "\n",
    "where  B  is one third of your yearly income,  U  stands for the yearly utility costs,  r  is the yearly interest rate (for worst scenario banks use 5%) and  n  is the number of years that you have until pension, assuming that at the time of the purchase you can pay for 20% of the house from your savings."
   ]
  },
  {
   "cell_type": "code",
   "execution_count": 244,
   "id": "932722ac",
   "metadata": {},
   "outputs": [
    {
     "data": {
      "text/plain": [
       "241101.96542028067"
      ]
     },
     "execution_count": 244,
     "metadata": {},
     "output_type": "execute_result"
    }
   ],
   "source": [
    "V = ((20000-10000)*(1/0.05)*(1-1/((1+0.05)**35)))/((2/15)+(2/3)*(1-1/((1+0.05)**35)))\n",
    "V"
   ]
  },
  {
   "cell_type": "code",
   "execution_count": 245,
   "id": "2a5bf07d",
   "metadata": {},
   "outputs": [],
   "source": [
    "B=20000\n",
    "U=10000\n",
    "r=0.05\n",
    "n=35"
   ]
  },
  {
   "cell_type": "code",
   "execution_count": 246,
   "id": "2967fc98",
   "metadata": {},
   "outputs": [
    {
     "data": {
      "text/plain": [
       "241101.96542028067"
      ]
     },
     "execution_count": 246,
     "metadata": {},
     "output_type": "execute_result"
    }
   ],
   "source": [
    "V = ((B-U)*(1/r)*(1-1/((1+r)**n)))/((2/15)+(2/3)*(1-1/((1+r)**n)))\n",
    "V"
   ]
  },
  {
   "cell_type": "code",
   "execution_count": 247,
   "id": "bcc26f35",
   "metadata": {},
   "outputs": [
    {
     "name": "stdout",
     "output_type": "stream",
     "text": [
      "747093.2925520518\n"
     ]
    }
   ],
   "source": [
    "r = 0.05\n",
    "n = 15\n",
    "B = 120000/3\n",
    "U = 5500\n",
    "\n",
    "c = 1 - 1/(1 + r)**n \n",
    "nom = (B-U)*(1/r)*c\n",
    "den = 2/15 + (2/3)*c\n",
    "V = nom/den\n",
    "print(V)"
   ]
  },
  {
   "cell_type": "markdown",
   "id": "2f40fc7f",
   "metadata": {},
   "source": [
    "### Integers"
   ]
  },
  {
   "cell_type": "code",
   "execution_count": 248,
   "id": "3f3f8fe3",
   "metadata": {},
   "outputs": [
    {
     "data": {
      "text/plain": [
       "1606938044258990275541962092341162602522202993782792835301376"
      ]
     },
     "execution_count": 248,
     "metadata": {},
     "output_type": "execute_result"
    }
   ],
   "source": [
    "2 ** 200"
   ]
  },
  {
   "cell_type": "markdown",
   "id": "d49ea52f",
   "metadata": {},
   "source": [
    "### Floating-Point Numbers"
   ]
  },
  {
   "cell_type": "code",
   "execution_count": 249,
   "id": "639fbf2b",
   "metadata": {},
   "outputs": [
    {
     "name": "stdout",
     "output_type": "stream",
     "text": [
      "True\n"
     ]
    }
   ],
   "source": [
    "x = 0.000005\n",
    "y = 5e-6\n",
    "print(x == y)"
   ]
  },
  {
   "cell_type": "code",
   "execution_count": 250,
   "id": "17e4bc3f",
   "metadata": {},
   "outputs": [
    {
     "data": {
      "text/plain": [
       "1.0"
      ]
     },
     "execution_count": 250,
     "metadata": {},
     "output_type": "execute_result"
    }
   ],
   "source": [
    "float(1)"
   ]
  },
  {
   "cell_type": "code",
   "execution_count": 251,
   "id": "49f52ec6",
   "metadata": {},
   "outputs": [
    {
     "data": {
      "text/plain": [
       "False"
      ]
     },
     "execution_count": 251,
     "metadata": {},
     "output_type": "execute_result"
    }
   ],
   "source": [
    "# why does this happen? due to the computer representation of the numbers this cannot be easily \n",
    "# checked for floating point numbes\n",
    "0.1 + 0.2 == 0.3"
   ]
  },
  {
   "cell_type": "code",
   "execution_count": 252,
   "id": "1e6c97a3",
   "metadata": {},
   "outputs": [
    {
     "name": "stdout",
     "output_type": "stream",
     "text": [
      "0.1 = 0.10000000000000001\n",
      "0.2 = 0.20000000000000001\n",
      "0.3 = 0.29999999999999999\n"
     ]
    }
   ],
   "source": [
    "print('0.1 = {0:.17f}'.format(0.1))\n",
    "print('0.2 = {0:.17f}'.format(0.2))\n",
    "print('0.3 = {0:.17f}'.format(0.3))"
   ]
  },
  {
   "cell_type": "code",
   "execution_count": 253,
   "id": "1774705e",
   "metadata": {},
   "outputs": [
    {
     "data": {
      "text/plain": [
       "True"
      ]
     },
     "execution_count": 253,
     "metadata": {},
     "output_type": "execute_result"
    }
   ],
   "source": [
    "# check whether difference is small enough: \n",
    "abs(0.1 + 0.2 - 0.3)\n",
    "(0.1 + 0.2 - 0.3)<1e-10"
   ]
  },
  {
   "cell_type": "markdown",
   "id": "be3f0c80",
   "metadata": {},
   "source": [
    "### String Type"
   ]
  },
  {
   "cell_type": "code",
   "execution_count": 254,
   "id": "23cf305f",
   "metadata": {},
   "outputs": [],
   "source": [
    "message = \"what do you like?\"\n",
    "response = 'spam'"
   ]
  },
  {
   "cell_type": "code",
   "execution_count": 255,
   "id": "5e156672",
   "metadata": {},
   "outputs": [],
   "source": [
    "multilinetext = \"\"\"This is the first row.\n",
    "This is the second row\"\"\""
   ]
  },
  {
   "cell_type": "code",
   "execution_count": 256,
   "id": "883d3346",
   "metadata": {},
   "outputs": [
    {
     "name": "stdout",
     "output_type": "stream",
     "text": [
      "This is the first row.\n",
      "This is the second row\n"
     ]
    }
   ],
   "source": [
    "print(multilinetext)"
   ]
  },
  {
   "cell_type": "code",
   "execution_count": 257,
   "id": "5241fb3d",
   "metadata": {},
   "outputs": [],
   "source": [
    "multilinetext = '''This is the first row.\n",
    "This is the second row'''"
   ]
  },
  {
   "cell_type": "code",
   "execution_count": 258,
   "id": "18439349",
   "metadata": {},
   "outputs": [
    {
     "data": {
      "text/plain": [
       "'What do you like?'"
      ]
     },
     "execution_count": 258,
     "metadata": {},
     "output_type": "execute_result"
    }
   ],
   "source": [
    "message.capitalize()"
   ]
  },
  {
   "cell_type": "code",
   "execution_count": 259,
   "id": "5a022c44",
   "metadata": {},
   "outputs": [
    {
     "data": {
      "text/plain": [
       "'SPAM'"
      ]
     },
     "execution_count": 259,
     "metadata": {},
     "output_type": "execute_result"
    }
   ],
   "source": [
    "response.upper()"
   ]
  },
  {
   "cell_type": "code",
   "execution_count": 260,
   "id": "b1a677be",
   "metadata": {},
   "outputs": [
    {
     "data": {
      "text/plain": [
       "4"
      ]
     },
     "execution_count": 260,
     "metadata": {},
     "output_type": "execute_result"
    }
   ],
   "source": [
    "# 4 letters\n",
    "len(response)"
   ]
  },
  {
   "cell_type": "code",
   "execution_count": 261,
   "id": "c0695da9",
   "metadata": {},
   "outputs": [
    {
     "data": {
      "text/plain": [
       "'what do you like?spam'"
      ]
     },
     "execution_count": 261,
     "metadata": {},
     "output_type": "execute_result"
    }
   ],
   "source": [
    "message + response"
   ]
  },
  {
   "cell_type": "code",
   "execution_count": 262,
   "id": "e3cbf4cb",
   "metadata": {},
   "outputs": [
    {
     "data": {
      "text/plain": [
       "'spamspamspamspamspam'"
      ]
     },
     "execution_count": 262,
     "metadata": {},
     "output_type": "execute_result"
    }
   ],
   "source": [
    "5 * response"
   ]
  },
  {
   "cell_type": "code",
   "execution_count": 263,
   "id": "9ba7ba7e",
   "metadata": {},
   "outputs": [
    {
     "data": {
      "text/plain": [
       "'w'"
      ]
     },
     "execution_count": 263,
     "metadata": {},
     "output_type": "execute_result"
    }
   ],
   "source": [
    "# first letter with index 0\n",
    "message[0]"
   ]
  },
  {
   "cell_type": "markdown",
   "id": "3d1a2b6a",
   "metadata": {},
   "source": [
    "### None Type"
   ]
  },
  {
   "cell_type": "code",
   "execution_count": 264,
   "id": "9d983a53",
   "metadata": {},
   "outputs": [
    {
     "name": "stdout",
     "output_type": "stream",
     "text": [
      "abs\n"
     ]
    }
   ],
   "source": [
    "return_value = print('abs')"
   ]
  },
  {
   "cell_type": "code",
   "execution_count": 265,
   "id": "4c2182dd",
   "metadata": {},
   "outputs": [
    {
     "name": "stdout",
     "output_type": "stream",
     "text": [
      "None\n"
     ]
    }
   ],
   "source": [
    "print(return_value)"
   ]
  },
  {
   "cell_type": "markdown",
   "id": "a3278efa",
   "metadata": {},
   "source": [
    "### Boolean Type"
   ]
  },
  {
   "cell_type": "code",
   "execution_count": 266,
   "id": "385ed59d",
   "metadata": {},
   "outputs": [
    {
     "data": {
      "text/plain": [
       "True"
      ]
     },
     "execution_count": 266,
     "metadata": {},
     "output_type": "execute_result"
    }
   ],
   "source": [
    "result = (4 < 5)\n",
    "result"
   ]
  },
  {
   "cell_type": "code",
   "execution_count": 267,
   "id": "88a739bf",
   "metadata": {},
   "outputs": [
    {
     "data": {
      "text/plain": [
       "bool"
      ]
     },
     "execution_count": 267,
     "metadata": {},
     "output_type": "execute_result"
    }
   ],
   "source": [
    "type(result)"
   ]
  },
  {
   "cell_type": "markdown",
   "id": "b04d723c",
   "metadata": {},
   "source": [
    "### List"
   ]
  },
  {
   "cell_type": "code",
   "execution_count": 268,
   "id": "00cf78ca",
   "metadata": {},
   "outputs": [],
   "source": [
    "L = [2, 3, 5, 7]"
   ]
  },
  {
   "cell_type": "code",
   "execution_count": 269,
   "id": "d0fe0b4f",
   "metadata": {},
   "outputs": [
    {
     "data": {
      "text/plain": [
       "4"
      ]
     },
     "execution_count": 269,
     "metadata": {},
     "output_type": "execute_result"
    }
   ],
   "source": [
    "len(L)"
   ]
  },
  {
   "cell_type": "code",
   "execution_count": 270,
   "id": "0ce754bc",
   "metadata": {},
   "outputs": [
    {
     "data": {
      "text/plain": [
       "[2, 3, 5, 7, 11]"
      ]
     },
     "execution_count": 270,
     "metadata": {},
     "output_type": "execute_result"
    }
   ],
   "source": [
    "L.append(11)\n",
    "L"
   ]
  },
  {
   "cell_type": "code",
   "execution_count": 271,
   "id": "27ede178",
   "metadata": {},
   "outputs": [
    {
     "data": {
      "text/plain": [
       "[2, 3, 5, 7, 11, 13, 17, 19]"
      ]
     },
     "execution_count": 271,
     "metadata": {},
     "output_type": "execute_result"
    }
   ],
   "source": [
    "L + [13, 17, 19]"
   ]
  },
  {
   "cell_type": "code",
   "execution_count": 272,
   "id": "b2dda475",
   "metadata": {},
   "outputs": [
    {
     "name": "stdout",
     "output_type": "stream",
     "text": [
      "[1, 2, 3, 4, 5, 6]\n"
     ]
    }
   ],
   "source": [
    "# sort() method sorts in-place\n",
    "L = [2, 5, 1, 6, 3, 4]\n",
    "L.sort()\n",
    "print(L)"
   ]
  },
  {
   "cell_type": "code",
   "execution_count": 273,
   "id": "94a9230f",
   "metadata": {},
   "outputs": [
    {
     "data": {
      "text/plain": [
       "[1, 'two', 3.14, [0, 3, 5]]"
      ]
     },
     "execution_count": 273,
     "metadata": {},
     "output_type": "execute_result"
    }
   ],
   "source": [
    "L = [1, 'two', 3.14, [0, 3, 5]]\n",
    "L"
   ]
  },
  {
   "cell_type": "code",
   "execution_count": 274,
   "id": "76266d62",
   "metadata": {},
   "outputs": [
    {
     "data": {
      "text/plain": [
       "1"
      ]
     },
     "execution_count": 274,
     "metadata": {},
     "output_type": "execute_result"
    }
   ],
   "source": [
    "L = [1, 'two', 3.14, [0, 3, 5]]\n",
    "L[0]"
   ]
  },
  {
   "cell_type": "code",
   "execution_count": 275,
   "id": "3fa58565",
   "metadata": {},
   "outputs": [
    {
     "data": {
      "text/plain": [
       "'two'"
      ]
     },
     "execution_count": 275,
     "metadata": {},
     "output_type": "execute_result"
    }
   ],
   "source": [
    "L[1]"
   ]
  },
  {
   "cell_type": "code",
   "execution_count": 276,
   "id": "4785530b",
   "metadata": {},
   "outputs": [
    {
     "data": {
      "text/plain": [
       "[0, 3, 5]"
      ]
     },
     "execution_count": 276,
     "metadata": {},
     "output_type": "execute_result"
    }
   ],
   "source": [
    "L[-1]"
   ]
  },
  {
   "cell_type": "code",
   "execution_count": 277,
   "id": "00cd1d87",
   "metadata": {},
   "outputs": [
    {
     "data": {
      "text/plain": [
       "[1, 'two', 3.14]"
      ]
     },
     "execution_count": 277,
     "metadata": {},
     "output_type": "execute_result"
    }
   ],
   "source": [
    "# displays values 0, 1 and 2 (the first three)\n",
    "L[0:3]"
   ]
  },
  {
   "cell_type": "code",
   "execution_count": 278,
   "id": "9d8a9165",
   "metadata": {},
   "outputs": [
    {
     "data": {
      "text/plain": [
       "[1, 'two', 3.14]"
      ]
     },
     "execution_count": 278,
     "metadata": {},
     "output_type": "execute_result"
    }
   ],
   "source": [
    "L[:3]"
   ]
  },
  {
   "cell_type": "code",
   "execution_count": 279,
   "id": "2842f3a7",
   "metadata": {},
   "outputs": [
    {
     "data": {
      "text/plain": [
       "['two', 3.14, [0, 3, 5]]"
      ]
     },
     "execution_count": 279,
     "metadata": {},
     "output_type": "execute_result"
    }
   ],
   "source": [
    "L[-3:]"
   ]
  },
  {
   "cell_type": "code",
   "execution_count": 280,
   "id": "6e3d6f57",
   "metadata": {},
   "outputs": [
    {
     "data": {
      "text/plain": [
       "[2, 3, 5, 7, 11]"
      ]
     },
     "execution_count": 280,
     "metadata": {},
     "output_type": "execute_result"
    }
   ],
   "source": [
    "L = [2, 3, 5, 7, 11]\n",
    "L"
   ]
  },
  {
   "cell_type": "code",
   "execution_count": 281,
   "id": "019023ed",
   "metadata": {},
   "outputs": [
    {
     "name": "stdout",
     "output_type": "stream",
     "text": [
      "[100, 3, 5, 7, 11]\n"
     ]
    }
   ],
   "source": [
    "L[0] = 100\n",
    "print(L)"
   ]
  },
  {
   "cell_type": "code",
   "execution_count": 282,
   "id": "a337530f",
   "metadata": {},
   "outputs": [
    {
     "name": "stdout",
     "output_type": "stream",
     "text": [
      "[100, 55, 56, 7, 11]\n"
     ]
    }
   ],
   "source": [
    "L[1:3] = [55, 56]\n",
    "print(L)"
   ]
  },
  {
   "cell_type": "code",
   "execution_count": 283,
   "id": "3ac723fa",
   "metadata": {},
   "outputs": [
    {
     "data": {
      "text/plain": [
       "[55, 7]"
      ]
     },
     "execution_count": 283,
     "metadata": {},
     "output_type": "execute_result"
    }
   ],
   "source": [
    "L[1:4:2]"
   ]
  },
  {
   "cell_type": "markdown",
   "id": "e94b725c",
   "metadata": {},
   "source": [
    "### Tuples\n",
    "\n",
    "Tuples are immutable"
   ]
  },
  {
   "cell_type": "code",
   "execution_count": 284,
   "id": "0255a389",
   "metadata": {},
   "outputs": [],
   "source": [
    "t = (1, 2, 3)"
   ]
  },
  {
   "cell_type": "code",
   "execution_count": 285,
   "id": "57f4e0a4",
   "metadata": {},
   "outputs": [
    {
     "data": {
      "text/plain": [
       "tuple"
      ]
     },
     "execution_count": 285,
     "metadata": {},
     "output_type": "execute_result"
    }
   ],
   "source": [
    "type(t)"
   ]
  },
  {
   "cell_type": "code",
   "execution_count": 286,
   "id": "6bd31b4a",
   "metadata": {},
   "outputs": [
    {
     "data": {
      "text/plain": [
       "1"
      ]
     },
     "execution_count": 286,
     "metadata": {},
     "output_type": "execute_result"
    }
   ],
   "source": [
    "t.count(2)"
   ]
  },
  {
   "cell_type": "code",
   "execution_count": 287,
   "id": "96c39ba4",
   "metadata": {},
   "outputs": [
    {
     "data": {
      "text/plain": [
       "2"
      ]
     },
     "execution_count": 287,
     "metadata": {},
     "output_type": "execute_result"
    }
   ],
   "source": [
    "t.index(3)"
   ]
  },
  {
   "cell_type": "code",
   "execution_count": 288,
   "id": "af46b2bc",
   "metadata": {},
   "outputs": [
    {
     "data": {
      "text/plain": [
       "3"
      ]
     },
     "execution_count": 288,
     "metadata": {},
     "output_type": "execute_result"
    }
   ],
   "source": [
    "len(t)"
   ]
  },
  {
   "cell_type": "code",
   "execution_count": 289,
   "id": "bb969f57",
   "metadata": {},
   "outputs": [
    {
     "data": {
      "text/plain": [
       "1"
      ]
     },
     "execution_count": 289,
     "metadata": {},
     "output_type": "execute_result"
    }
   ],
   "source": [
    "t[0]"
   ]
  },
  {
   "cell_type": "markdown",
   "id": "8bdda51a",
   "metadata": {},
   "source": [
    "### Dictionaries"
   ]
  },
  {
   "cell_type": "code",
   "execution_count": 290,
   "id": "63624f2a",
   "metadata": {},
   "outputs": [],
   "source": [
    "numbers = {'one':1, 'two':2, 'three':3}"
   ]
  },
  {
   "cell_type": "code",
   "execution_count": 291,
   "id": "5dfb8d6a",
   "metadata": {},
   "outputs": [
    {
     "data": {
      "text/plain": [
       "2"
      ]
     },
     "execution_count": 291,
     "metadata": {},
     "output_type": "execute_result"
    }
   ],
   "source": [
    "numbers['two']"
   ]
  },
  {
   "cell_type": "code",
   "execution_count": 292,
   "id": "a4409292",
   "metadata": {},
   "outputs": [
    {
     "name": "stdout",
     "output_type": "stream",
     "text": [
      "{'one': 1, 'two': 2, 'three': 3, 'ninety': 90}\n"
     ]
    }
   ],
   "source": [
    "numbers['ninety'] = 90\n",
    "print(numbers)"
   ]
  },
  {
   "cell_type": "code",
   "execution_count": 293,
   "id": "4df6f85c",
   "metadata": {},
   "outputs": [
    {
     "data": {
      "text/plain": [
       "1"
      ]
     },
     "execution_count": 293,
     "metadata": {},
     "output_type": "execute_result"
    }
   ],
   "source": [
    "numbers.get('one')"
   ]
  },
  {
   "cell_type": "markdown",
   "id": "b3cf7f87",
   "metadata": {},
   "source": [
    "### Sets"
   ]
  },
  {
   "cell_type": "code",
   "execution_count": 294,
   "id": "26da6689",
   "metadata": {},
   "outputs": [],
   "source": [
    "primes = {2, 3, 5, 7}\n",
    "odds = {1, 3, 5, 7, 9}"
   ]
  },
  {
   "cell_type": "code",
   "execution_count": 295,
   "id": "44937ff3",
   "metadata": {},
   "outputs": [
    {
     "data": {
      "text/plain": [
       "{1, 2, 3, 5, 7, 9}"
      ]
     },
     "execution_count": 295,
     "metadata": {},
     "output_type": "execute_result"
    }
   ],
   "source": [
    "primes | odds      # with an operator\n",
    "primes.union(odds) # equivalently with a method"
   ]
  },
  {
   "cell_type": "code",
   "execution_count": 296,
   "id": "6c6f2e92",
   "metadata": {},
   "outputs": [
    {
     "data": {
      "text/plain": [
       "{3, 5, 7}"
      ]
     },
     "execution_count": 296,
     "metadata": {},
     "output_type": "execute_result"
    }
   ],
   "source": [
    "# intersection: items appearing in both\n",
    "primes & odds             # with an operator\n",
    "primes.intersection(odds) # equivalently with a method"
   ]
  },
  {
   "cell_type": "code",
   "execution_count": 297,
   "id": "23ac232d",
   "metadata": {},
   "outputs": [
    {
     "data": {
      "text/plain": [
       "{2}"
      ]
     },
     "execution_count": 297,
     "metadata": {},
     "output_type": "execute_result"
    }
   ],
   "source": [
    "# difference: items in primes but not in odds\n",
    "primes - odds           # with an operator\n",
    "primes.difference(odds) # equivalently with a method"
   ]
  },
  {
   "cell_type": "code",
   "execution_count": 298,
   "id": "a10cb478",
   "metadata": {},
   "outputs": [
    {
     "data": {
      "text/plain": [
       "'Micu is a pupschopf !!!!!'"
      ]
     },
     "execution_count": 298,
     "metadata": {},
     "output_type": "execute_result"
    }
   ],
   "source": [
    "subj = 'Micu'\n",
    "verb = 'is'\n",
    "shizzle = 'a'\n",
    "obj = 'pupschopf'\n",
    "excl = '!'\n",
    "space = ' '\n",
    "subj + space + verb + space + shizzle + space + obj + space + 5*excl"
   ]
  },
  {
   "cell_type": "code",
   "execution_count": 299,
   "id": "ff6db0de",
   "metadata": {},
   "outputs": [
    {
     "data": {
      "text/plain": [
       "{1, 2, 9}"
      ]
     },
     "execution_count": 299,
     "metadata": {},
     "output_type": "execute_result"
    }
   ],
   "source": [
    "# symmetric difference: items appearing in only one set\n",
    "primes ^ odds                     # with an operator\n",
    "primes.symmetric_difference(odds) # equivalently with a method"
   ]
  },
  {
   "cell_type": "markdown",
   "id": "fa399cfa",
   "metadata": {},
   "source": [
    "### The del-statement"
   ]
  },
  {
   "cell_type": "code",
   "execution_count": 300,
   "id": "96256b97",
   "metadata": {},
   "outputs": [
    {
     "name": "stdout",
     "output_type": "stream",
     "text": [
      "my_tuple = ('Sam', 25)\n",
      "my_list = [2, 3, 8]\n",
      "my_dictionary {'Name': 'Sam', 'Age': 25}\n"
     ]
    }
   ],
   "source": [
    "my_tuple = ('Sam', 25)\n",
    "my_list = [2, 3, 8]\n",
    "my_dictionary = {'Name': 'Sam', 'Age': 25}\n",
    "print('my_tuple =', my_tuple)\n",
    "print('my_list =', my_list)\n",
    "print('my_dictionary', my_dictionary)"
   ]
  },
  {
   "cell_type": "code",
   "execution_count": 301,
   "id": "86966873",
   "metadata": {},
   "outputs": [],
   "source": [
    "del (my_tuple, my_list, my_dictionary)\n",
    "# del my_tuple\n",
    "# del my_list\n",
    "# del my_dictionary"
   ]
  },
  {
   "cell_type": "code",
   "execution_count": 302,
   "id": "23a18d83",
   "metadata": {},
   "outputs": [
    {
     "ename": "NameError",
     "evalue": "name 'my_tuple' is not defined",
     "output_type": "error",
     "traceback": [
      "\u001b[1;31m---------------------------------------------------------------------------\u001b[0m",
      "\u001b[1;31mNameError\u001b[0m                                 Traceback (most recent call last)",
      "\u001b[1;32m<ipython-input-302-64943b234f19>\u001b[0m in \u001b[0;36m<module>\u001b[1;34m\u001b[0m\n\u001b[1;32m----> 1\u001b[1;33m \u001b[0mprint\u001b[0m\u001b[1;33m(\u001b[0m\u001b[0mmy_tuple\u001b[0m\u001b[1;33m)\u001b[0m \u001b[1;31m#print(my_list) #print(my_dictionary)\u001b[0m\u001b[1;33m\u001b[0m\u001b[1;33m\u001b[0m\u001b[0m\n\u001b[0m",
      "\u001b[1;31mNameError\u001b[0m: name 'my_tuple' is not defined"
     ]
    }
   ],
   "source": [
    "print(my_tuple) #print(my_list) #print(my_dictionary)"
   ]
  },
  {
   "cell_type": "markdown",
   "id": "de1295d8",
   "metadata": {},
   "source": [
    "### Control Statements"
   ]
  },
  {
   "cell_type": "code",
   "execution_count": 303,
   "id": "fc494a30",
   "metadata": {},
   "outputs": [
    {
     "name": "stdout",
     "output_type": "stream",
     "text": [
      "-15 is negative\n"
     ]
    }
   ],
   "source": [
    "x = -15\n",
    "\n",
    "if x == 0:\n",
    "    print(x, \"is zero\")\n",
    "elif x > 0:\n",
    "    print(x, \"is positive\")\n",
    "elif x < 0:\n",
    "    print(x, \"is negative\")\n",
    "else:\n",
    "    print(x, \"is unlike anything I've ever seen...\")"
   ]
  },
  {
   "cell_type": "markdown",
   "id": "44790b2d",
   "metadata": {},
   "source": [
    "### for Loops"
   ]
  },
  {
   "cell_type": "code",
   "execution_count": 304,
   "id": "eef949b4",
   "metadata": {},
   "outputs": [
    {
     "name": "stdout",
     "output_type": "stream",
     "text": [
      "2 3 5 7 "
     ]
    }
   ],
   "source": [
    "for N in [2, 3, 5, 7]:\n",
    "    print(N, end=' ') # print all on same line"
   ]
  },
  {
   "cell_type": "code",
   "execution_count": 305,
   "id": "db80b327",
   "metadata": {},
   "outputs": [
    {
     "name": "stdout",
     "output_type": "stream",
     "text": [
      "2, 3, 5, 7, "
     ]
    }
   ],
   "source": [
    "for N in [2, 3, 5, 7]:\n",
    "    print(N, end=', ') # print all on same line"
   ]
  },
  {
   "cell_type": "code",
   "execution_count": 306,
   "id": "87202c64",
   "metadata": {},
   "outputs": [
    {
     "name": "stdout",
     "output_type": "stream",
     "text": [
      "0 1 2 3 4 5 6 7 8 9 "
     ]
    }
   ],
   "source": [
    "for i in range(10):\n",
    "    print(i, end=' ')"
   ]
  },
  {
   "cell_type": "code",
   "execution_count": 307,
   "id": "fef3a84c",
   "metadata": {},
   "outputs": [
    {
     "name": "stdout",
     "output_type": "stream",
     "text": [
      "-5 spam -4 spam -3 spam -2 spam -1 spam 0 spam 1 spam 2 spam 3 spam 4 spam 5 spam 6 spam 7 spam 8 spam 9 spam "
     ]
    }
   ],
   "source": [
    "for i in range(-5,10):\n",
    "    print(i, end=' spam ')"
   ]
  },
  {
   "cell_type": "markdown",
   "id": "2fb49d2f",
   "metadata": {},
   "source": [
    "### while loops"
   ]
  },
  {
   "cell_type": "code",
   "execution_count": 308,
   "id": "bab8926f",
   "metadata": {},
   "outputs": [
    {
     "name": "stdout",
     "output_type": "stream",
     "text": [
      "0 1 2 3 4 5 6 7 8 9 "
     ]
    }
   ],
   "source": [
    "i = 0\n",
    "while i < 10:\n",
    "    print(i, end=' ')\n",
    "    i += 1"
   ]
  },
  {
   "cell_type": "code",
   "execution_count": 309,
   "id": "f307b0b2",
   "metadata": {},
   "outputs": [
    {
     "name": "stdout",
     "output_type": "stream",
     "text": [
      "1 3 5 7 9 11 13 15 17 19 "
     ]
    }
   ],
   "source": [
    "# get all the odd numbers printed out\n",
    "for n in range(20):\n",
    "    # if the remainder of n / 2 is 0, skip the rest of the loop\n",
    "    if n % 2 == 0:\n",
    "        continue\n",
    "    print(n, end=' ')"
   ]
  },
  {
   "cell_type": "code",
   "execution_count": 310,
   "id": "aaafd393",
   "metadata": {},
   "outputs": [
    {
     "name": "stdout",
     "output_type": "stream",
     "text": [
      "[1, 1, 2, 3, 5, 8, 13, 21, 34, 55, 89, 144]\n"
     ]
    }
   ],
   "source": [
    "# Fibonacci-series\n",
    "\n",
    "a, b = 0, 1\n",
    "amax = 200\n",
    "L = []\n",
    "\n",
    "while True:\n",
    "    (a, b) = (b, a + b)\n",
    "    if a > amax:\n",
    "        break\n",
    "    L.append(a)\n",
    "\n",
    "print(L)"
   ]
  },
  {
   "cell_type": "markdown",
   "id": "1234a91e",
   "metadata": {},
   "source": [
    "ex 5 and 7 (rooms 1 and 4)\n",
    "ex 8 and 9 (rooms 2 and 5)\n",
    "ex 10 and 11 (rooms 3 and 6)\n",
    "\n",
    "#### Exercise 5\n",
    "\n",
    "Explain the following code snippets:"
   ]
  },
  {
   "cell_type": "code",
   "execution_count": 311,
   "id": "95da9bfe",
   "metadata": {},
   "outputs": [
    {
     "name": "stdout",
     "output_type": "stream",
     "text": [
      "{'solid': '-', 'dashed': '--', 'dash-dotted': '-.', 'dotted': ':'}\n",
      "{'dashed': '--', 'dash-dotted': '-.', 'dotted': ':'}\n"
     ]
    },
    {
     "ename": "NameError",
     "evalue": "name 'linetypes' is not defined",
     "output_type": "error",
     "traceback": [
      "\u001b[1;31m---------------------------------------------------------------------------\u001b[0m",
      "\u001b[1;31mNameError\u001b[0m                                 Traceback (most recent call last)",
      "\u001b[1;32m<ipython-input-311-0c6a1e0d6d5f>\u001b[0m in \u001b[0;36m<module>\u001b[1;34m\u001b[0m\n\u001b[0;32m      5\u001b[0m \u001b[0mprint\u001b[0m\u001b[1;33m(\u001b[0m\u001b[0mlinetypes\u001b[0m\u001b[1;33m)\u001b[0m\u001b[1;33m\u001b[0m\u001b[1;33m\u001b[0m\u001b[0m\n\u001b[0;32m      6\u001b[0m \u001b[1;32mdel\u001b[0m \u001b[0mlinetypes\u001b[0m\u001b[1;33m\u001b[0m\u001b[1;33m\u001b[0m\u001b[0m\n\u001b[1;32m----> 7\u001b[1;33m \u001b[0mprint\u001b[0m\u001b[1;33m(\u001b[0m\u001b[0mlinetypes\u001b[0m\u001b[1;33m)\u001b[0m\u001b[1;33m\u001b[0m\u001b[1;33m\u001b[0m\u001b[0m\n\u001b[0m",
      "\u001b[1;31mNameError\u001b[0m: name 'linetypes' is not defined"
     ]
    }
   ],
   "source": [
    "# a)\n",
    "linetypes = {'solid': '-', 'dashed': '--', 'dash-dotted': '-.', 'dotted': ':'}\n",
    "print(linetypes)\n",
    "del linetypes['solid']\n",
    "print(linetypes)\n",
    "del linetypes\n",
    "print(linetypes)"
   ]
  },
  {
   "cell_type": "markdown",
   "id": "0eada16c",
   "metadata": {},
   "source": [
    "#### Exercise 9\n",
    "\n",
    "1. Create a dictionary, which contains as keys all the elements of a list and as values the corresponding number of occurences in the list.\n",
    "For example for the list \n",
    "```L = [1, 2, 3, 2]```\n",
    "the corresponding dictionary would be\n",
    "```{1:1, 2: 2, 3:1}```.\n",
    "\n",
    "2. Knowing that the year started with a day of Monday, determine on what day of the week would fall the 100-th, 243-th, 301-th day of the year."
   ]
  },
  {
   "cell_type": "code",
   "execution_count": 312,
   "id": "9c23c16a",
   "metadata": {},
   "outputs": [
    {
     "name": "stdout",
     "output_type": "stream",
     "text": [
      "{1: 1, 2: 5, 'a': 2, 3: 1}\n"
     ]
    }
   ],
   "source": [
    "L = [1, 2, \"a\", 2, 3, 2, 2, 2, \"a\"]\n",
    "D = {}\n",
    "for element in L:\n",
    "    if element in D.keys():\n",
    "        D[element] = D[element] + 1\n",
    "    else:\n",
    "        D[element] = 1\n",
    "print(D)"
   ]
  },
  {
   "cell_type": "markdown",
   "id": "ee04d70c",
   "metadata": {},
   "source": [
    "#### Exercise 10\n",
    "\n",
    "We consider three categories of major allergy factors: milk, gluten and nuts. From all the participants of a dietary seminar we got the information whether they are allergic to these individual factors. We denote the participants by $P_1, P_2, \\ldots, P_{30}$. The collected information is summarized in the following code:"
   ]
  },
  {
   "cell_type": "code",
   "execution_count": 313,
   "id": "524342c9",
   "metadata": {},
   "outputs": [],
   "source": [
    "milk = {'P1', 'P3', 'P7', 'P10', 'P18'} #people being allergic to milk\n",
    "gluten = {'P1', 'P10', 'P5', 'P22', 'P18'} #people being allergic to milk\n",
    "nuts = {'P5', 'P10', 'P27'} #people being allergic to nuts"
   ]
  },
  {
   "cell_type": "code",
   "execution_count": 314,
   "id": "2a638232",
   "metadata": {},
   "outputs": [
    {
     "data": {
      "text/plain": [
       "{'P10'}"
      ]
     },
     "execution_count": 314,
     "metadata": {},
     "output_type": "execute_result"
    }
   ],
   "source": [
    "# 1. Who is allergic to milk, gluten and nuts, as well?\n",
    "\n",
    "# intersection: items appearing in both\n",
    "milk & gluten & nuts             # with an operator\n",
    "milk.intersection(gluten, nuts) # equivalently with a method"
   ]
  },
  {
   "cell_type": "code",
   "execution_count": 315,
   "id": "2bf89624",
   "metadata": {},
   "outputs": [
    {
     "data": {
      "text/plain": [
       "{'P22', 'P27', 'P3', 'P7'}"
      ]
     },
     "execution_count": 315,
     "metadata": {},
     "output_type": "execute_result"
    }
   ],
   "source": [
    "#2. Determine with set operations, which participants are allergic to exactly one factor.\n",
    "\n",
    "((milk-gluten)-nuts) | ((gluten-milk)-nuts) | ((nuts-milk)-gluten)"
   ]
  },
  {
   "cell_type": "code",
   "execution_count": 316,
   "id": "eb509603",
   "metadata": {},
   "outputs": [
    {
     "data": {
      "text/plain": [
       "{'P10', 'P22', 'P27', 'P3', 'P7'}"
      ]
     },
     "execution_count": 316,
     "metadata": {},
     "output_type": "execute_result"
    }
   ],
   "source": [
    "milk ^ gluten ^ nuts"
   ]
  },
  {
   "cell_type": "code",
   "execution_count": 317,
   "id": "28920dcd",
   "metadata": {},
   "outputs": [
    {
     "data": {
      "text/plain": [
       "{'P22', 'P27', 'P3', 'P7'}"
      ]
     },
     "execution_count": 317,
     "metadata": {},
     "output_type": "execute_result"
    }
   ],
   "source": [
    "milk ^ gluten ^ nuts - (milk & gluten & nuts)               # with an operator"
   ]
  },
  {
   "cell_type": "markdown",
   "id": "a5792c37",
   "metadata": {},
   "source": [
    "#### Exercise 11\n",
    "\n",
    "1. Write code which checks whether a given number ```a``` is a multiple of ```b``` and write your result as a text message.\n",
    "2. A leap year is a year of 366 days in the Gregorian calendar. It is a year whose number is exactly divisible by 4, or, in case of the final year of a century, by 400. Determine whether a given year is leapyear or not."
   ]
  },
  {
   "cell_type": "code",
   "execution_count": 318,
   "id": "eadefa7c",
   "metadata": {},
   "outputs": [
    {
     "name": "stdout",
     "output_type": "stream",
     "text": [
      "20 is not a multiple of 6.\n"
     ]
    }
   ],
   "source": [
    "# 1)\n",
    "\n",
    "a = 20\n",
    "b = 6\n",
    "if a % b == 0:\n",
    "    print(\"{} is a multiple of {}.\".format(a,b))\n",
    "else:\n",
    "    print(\"{} is not a multiple of {}.\".format(a,b))"
   ]
  },
  {
   "cell_type": "code",
   "execution_count": 319,
   "id": "82dfaaf1",
   "metadata": {},
   "outputs": [
    {
     "name": "stdout",
     "output_type": "stream",
     "text": [
      "False\n"
     ]
    }
   ],
   "source": [
    "year = 23\n",
    "LeapYear = False\n",
    "if year % 4 == 0:\n",
    "    if year % 100 == 0:\n",
    "        if year % 400 == 0:\n",
    "            LeapYear = True\n",
    "        else:\n",
    "            LeapYear = False\n",
    "    else:\n",
    "        LeapYear = True\n",
    "else:\n",
    "    LeapYear = False\n",
    "print(LeapYear)"
   ]
  },
  {
   "cell_type": "markdown",
   "id": "c3cff91d",
   "metadata": {},
   "source": [
    "### Defining Functions"
   ]
  },
  {
   "cell_type": "code",
   "execution_count": 320,
   "id": "2959130d",
   "metadata": {},
   "outputs": [],
   "source": [
    "def fibonacci(N):\n",
    "    L = []\n",
    "    a, b = 0, 1\n",
    "    while len(L) < N:\n",
    "        a, b = b, a + b\n",
    "        L.append(a)\n",
    "    return L"
   ]
  },
  {
   "cell_type": "code",
   "execution_count": 321,
   "id": "d8437823",
   "metadata": {},
   "outputs": [
    {
     "data": {
      "text/plain": [
       "[1, 1, 2, 3, 5, 8, 13, 21, 34, 55]"
      ]
     },
     "execution_count": 321,
     "metadata": {},
     "output_type": "execute_result"
    }
   ],
   "source": [
    "fibonacci(10)"
   ]
  },
  {
   "cell_type": "code",
   "execution_count": 322,
   "id": "cfa37451",
   "metadata": {},
   "outputs": [],
   "source": [
    "def fibonacci(N):\n",
    "    'It generates the first N Fibonacci-numbers.'\n",
    "    L = []\n",
    "    a, b = 0, 1\n",
    "    while len(L) < N:\n",
    "        a, b = b, a + b\n",
    "        L.append(a)\n",
    "    return L"
   ]
  },
  {
   "cell_type": "code",
   "execution_count": 323,
   "id": "86648616",
   "metadata": {},
   "outputs": [],
   "source": [
    "fibonacci?"
   ]
  },
  {
   "cell_type": "code",
   "execution_count": 324,
   "id": "ea6ed454",
   "metadata": {},
   "outputs": [],
   "source": [
    "def fibonacci(N, a=0, b=1):\n",
    "    L = []\n",
    "    while len(L) < N:\n",
    "        a, b = b, a + b\n",
    "        L.append(a)\n",
    "    return L"
   ]
  },
  {
   "cell_type": "code",
   "execution_count": 325,
   "id": "28dc6e2a",
   "metadata": {},
   "outputs": [
    {
     "data": {
      "text/plain": [
       "[1, 1, 2, 3, 5, 8, 13, 21, 34, 55]"
      ]
     },
     "execution_count": 325,
     "metadata": {},
     "output_type": "execute_result"
    }
   ],
   "source": [
    "fibonacci(10)"
   ]
  },
  {
   "cell_type": "code",
   "execution_count": 326,
   "id": "098024b0",
   "metadata": {},
   "outputs": [
    {
     "data": {
      "text/plain": [
       "[2, 2, 4, 6, 10, 16, 26, 42, 68, 110]"
      ]
     },
     "execution_count": 326,
     "metadata": {},
     "output_type": "execute_result"
    }
   ],
   "source": [
    "fibonacci(10, 0, 2)"
   ]
  },
  {
   "cell_type": "code",
   "execution_count": 327,
   "id": "6c40a71d",
   "metadata": {},
   "outputs": [
    {
     "data": {
      "text/plain": [
       "[3, 4, 7, 11, 18, 29, 47, 76, 123, 199]"
      ]
     },
     "execution_count": 327,
     "metadata": {},
     "output_type": "execute_result"
    }
   ],
   "source": [
    "fibonacci(10, b=3, a=1)"
   ]
  },
  {
   "cell_type": "markdown",
   "id": "8125e2dd",
   "metadata": {},
   "source": [
    "### Anonymous (``lambda``) Functions"
   ]
  },
  {
   "cell_type": "code",
   "execution_count": 328,
   "id": "757989b1",
   "metadata": {},
   "outputs": [
    {
     "data": {
      "text/plain": [
       "3"
      ]
     },
     "execution_count": 328,
     "metadata": {},
     "output_type": "execute_result"
    }
   ],
   "source": [
    "add = lambda x, y: x + y\n",
    "add(1, 2)"
   ]
  },
  {
   "cell_type": "code",
   "execution_count": 329,
   "id": "86e7cbc2",
   "metadata": {},
   "outputs": [],
   "source": [
    "data = [{'first':'Guido', 'last':'Van Rossum', 'YOB':1956},\n",
    "        {'first':'Grace', 'last':'Hopper',     'YOB':1906},\n",
    "        {'first':'Alan',  'last':'Turing',     'YOB':1912}]"
   ]
  },
  {
   "cell_type": "code",
   "execution_count": 330,
   "id": "9fe9dcc4",
   "metadata": {},
   "outputs": [
    {
     "data": {
      "text/plain": [
       "[{'first': 'Alan', 'last': 'Turing', 'YOB': 1912},\n",
       " {'first': 'Grace', 'last': 'Hopper', 'YOB': 1906},\n",
       " {'first': 'Guido', 'last': 'Van Rossum', 'YOB': 1956}]"
      ]
     },
     "execution_count": 330,
     "metadata": {},
     "output_type": "execute_result"
    }
   ],
   "source": [
    "# sort alphabetically by first name\n",
    "sorted(data, key=lambda item: item['first'])"
   ]
  },
  {
   "cell_type": "code",
   "execution_count": 331,
   "id": "61be19c9",
   "metadata": {},
   "outputs": [
    {
     "data": {
      "text/plain": [
       "[{'first': 'Grace', 'last': 'Hopper', 'YOB': 1906},\n",
       " {'first': 'Alan', 'last': 'Turing', 'YOB': 1912},\n",
       " {'first': 'Guido', 'last': 'Van Rossum', 'YOB': 1956}]"
      ]
     },
     "execution_count": 331,
     "metadata": {},
     "output_type": "execute_result"
    }
   ],
   "source": [
    "# sort by year of birth\n",
    "sorted(data, key=lambda item: item['YOB'])"
   ]
  },
  {
   "cell_type": "markdown",
   "id": "40c577d7",
   "metadata": {},
   "source": [
    "### Strings and Regular Expressions"
   ]
  },
  {
   "cell_type": "code",
   "execution_count": 332,
   "id": "4e971700",
   "metadata": {},
   "outputs": [],
   "source": [
    "fox = \"tHe qUICk bROWn fOx.\""
   ]
  },
  {
   "cell_type": "code",
   "execution_count": 333,
   "id": "8bcaee1c",
   "metadata": {},
   "outputs": [
    {
     "data": {
      "text/plain": [
       "'ThE QuicK BrowN FoX.'"
      ]
     },
     "execution_count": 333,
     "metadata": {},
     "output_type": "execute_result"
    }
   ],
   "source": [
    "fox.swapcase()"
   ]
  },
  {
   "cell_type": "code",
   "execution_count": 334,
   "id": "bd2144af",
   "metadata": {},
   "outputs": [
    {
     "data": {
      "text/plain": [
       "16"
      ]
     },
     "execution_count": 334,
     "metadata": {},
     "output_type": "execute_result"
    }
   ],
   "source": [
    "line = 'the quick brown fox jumped over a lazy dog'\n",
    "line.find('fox')"
   ]
  },
  {
   "cell_type": "code",
   "execution_count": 335,
   "id": "44dc39c8",
   "metadata": {},
   "outputs": [
    {
     "data": {
      "text/plain": [
       "-1"
      ]
     },
     "execution_count": 335,
     "metadata": {},
     "output_type": "execute_result"
    }
   ],
   "source": [
    "line.find('bear')"
   ]
  },
  {
   "cell_type": "code",
   "execution_count": 336,
   "id": "76b42d29",
   "metadata": {},
   "outputs": [
    {
     "ename": "ValueError",
     "evalue": "substring not found",
     "output_type": "error",
     "traceback": [
      "\u001b[1;31m---------------------------------------------------------------------------\u001b[0m",
      "\u001b[1;31mValueError\u001b[0m                                Traceback (most recent call last)",
      "\u001b[1;32m<ipython-input-336-adf599eb4c79>\u001b[0m in \u001b[0;36m<module>\u001b[1;34m\u001b[0m\n\u001b[1;32m----> 1\u001b[1;33m \u001b[0mline\u001b[0m\u001b[1;33m.\u001b[0m\u001b[0mindex\u001b[0m\u001b[1;33m(\u001b[0m\u001b[1;34m'bear'\u001b[0m\u001b[1;33m)\u001b[0m\u001b[1;33m\u001b[0m\u001b[1;33m\u001b[0m\u001b[0m\n\u001b[0m",
      "\u001b[1;31mValueError\u001b[0m: substring not found"
     ]
    }
   ],
   "source": [
    "line.index('bear')"
   ]
  },
  {
   "cell_type": "code",
   "execution_count": 337,
   "id": "32c6c387",
   "metadata": {},
   "outputs": [
    {
     "data": {
      "text/plain": [
       "35"
      ]
     },
     "execution_count": 337,
     "metadata": {},
     "output_type": "execute_result"
    }
   ],
   "source": [
    "line.rfind('a')"
   ]
  },
  {
   "cell_type": "code",
   "execution_count": 338,
   "id": "b75ce33d",
   "metadata": {},
   "outputs": [
    {
     "ename": "SyntaxError",
     "evalue": "invalid syntax (<ipython-input-338-35896c4c0cad>, line 1)",
     "output_type": "error",
     "traceback": [
      "\u001b[1;36m  File \u001b[1;32m\"<ipython-input-338-35896c4c0cad>\"\u001b[1;36m, line \u001b[1;32m1\u001b[0m\n\u001b[1;33m    line.\u001b[0m\n\u001b[1;37m         ^\u001b[0m\n\u001b[1;31mSyntaxError\u001b[0m\u001b[1;31m:\u001b[0m invalid syntax\n"
     ]
    }
   ],
   "source": [
    "line."
   ]
  },
  {
   "cell_type": "code",
   "execution_count": null,
   "id": "9314dc47",
   "metadata": {},
   "outputs": [],
   "source": [
    "line = 'the quick brown fox jumped over a lazy dog'\n",
    "line.replace('brown', 'red')"
   ]
  },
  {
   "cell_type": "code",
   "execution_count": 339,
   "id": "b919ad2f",
   "metadata": {},
   "outputs": [
    {
     "data": {
      "text/plain": [
       "('the quick brown ', 'fox', ' jumped over a lazy dog')"
      ]
     },
     "execution_count": 339,
     "metadata": {},
     "output_type": "execute_result"
    }
   ],
   "source": [
    "line.partition('fox')"
   ]
  },
  {
   "cell_type": "code",
   "execution_count": 340,
   "id": "bc262fa8",
   "metadata": {},
   "outputs": [
    {
     "data": {
      "text/plain": [
       "['the', 'quick', 'brown', 'fox', 'jumped', 'over', 'a', 'lazy', 'dog']"
      ]
     },
     "execution_count": 340,
     "metadata": {},
     "output_type": "execute_result"
    }
   ],
   "source": [
    "line.split()"
   ]
  },
  {
   "cell_type": "markdown",
   "id": "9b3d605e",
   "metadata": {},
   "source": [
    "### Format strings ``f-string``"
   ]
  },
  {
   "cell_type": "code",
   "execution_count": 341,
   "id": "f921ea78",
   "metadata": {},
   "outputs": [
    {
     "data": {
      "text/plain": [
       "'The value of pi is 3.14159.'"
      ]
     },
     "execution_count": 341,
     "metadata": {},
     "output_type": "execute_result"
    }
   ],
   "source": [
    "pi = 3.14159\n",
    "str(pi)\n",
    "\"The value of pi is {}.\".format(pi)"
   ]
  },
  {
   "cell_type": "code",
   "execution_count": 342,
   "id": "d73f7d8b",
   "metadata": {},
   "outputs": [
    {
     "data": {
      "text/plain": [
       "'The value of pi is 3.14159'"
      ]
     },
     "execution_count": 342,
     "metadata": {},
     "output_type": "execute_result"
    }
   ],
   "source": [
    "f'The value of pi is {pi}'"
   ]
  },
  {
   "cell_type": "code",
   "execution_count": 343,
   "id": "123c53a6",
   "metadata": {},
   "outputs": [
    {
     "data": {
      "text/plain": [
       "['the', 'quick', 'brown', 'fox', 'jumped', 'over', 'a', 'lazy', 'dog']"
      ]
     },
     "execution_count": 343,
     "metadata": {},
     "output_type": "execute_result"
    }
   ],
   "source": [
    "import re\n",
    "regex = re.compile('\\s+')\n",
    "regex.split(line)"
   ]
  },
  {
   "cell_type": "code",
   "execution_count": 344,
   "id": "651e3e9c",
   "metadata": {},
   "outputs": [
    {
     "name": "stdout",
     "output_type": "stream",
     "text": [
      "'     ' matches\n",
      "'abc  ' does not match\n",
      "'  abc' matches\n"
     ]
    }
   ],
   "source": [
    "for s in [\"     \", \"abc  \", \"  abc\"]:\n",
    "    if regex.match(s):\n",
    "        print(repr(s), \"matches\")\n",
    "    else:\n",
    "        print(repr(s), \"does not match\")"
   ]
  },
  {
   "cell_type": "code",
   "execution_count": 345,
   "id": "1a28694c",
   "metadata": {},
   "outputs": [],
   "source": [
    "email = re.compile('\\w+@\\w+\\.[a-z]{3}')"
   ]
  },
  {
   "cell_type": "code",
   "execution_count": 346,
   "id": "2f6cf33a",
   "metadata": {},
   "outputs": [
    {
     "data": {
      "text/plain": [
       "['guido@python.org', 'guido@google.com']"
      ]
     },
     "execution_count": 346,
     "metadata": {},
     "output_type": "execute_result"
    }
   ],
   "source": [
    "text = \"To email Guido, try guido@python.org or the older address guido@google.com.\"\n",
    "email.findall(text)"
   ]
  },
  {
   "cell_type": "code",
   "execution_count": 347,
   "id": "c837299c",
   "metadata": {},
   "outputs": [
    {
     "data": {
      "text/plain": [
       "'To email Guido, try --@--.-- or the older address --@--.--.'"
      ]
     },
     "execution_count": 347,
     "metadata": {},
     "output_type": "execute_result"
    }
   ],
   "source": [
    "email.sub('--@--.--', text)"
   ]
  },
  {
   "cell_type": "code",
   "execution_count": 348,
   "id": "e0c32b07",
   "metadata": {},
   "outputs": [
    {
     "name": "stdout",
     "output_type": "stream",
     "text": [
      "['You', 'will', 'be', 'missed']\n"
     ]
    }
   ],
   "source": [
    "x = ['You', 'will', 'be', 'missed']\n",
    "type(x)\n",
    "print(x)"
   ]
  },
  {
   "cell_type": "code",
   "execution_count": 349,
   "id": "4c022482",
   "metadata": {},
   "outputs": [],
   "source": [
    "mytext = \"\"\"HAIKU\n",
    "for Chrische\n",
    "\n",
    "You shall be missed, dear.\n",
    "Get some very well deserved rest now, \n",
    "until you are like new.\n",
    "\n",
    "\n",
    "Perhaps do not even touch it.\n",
    "Just look at it, look at it,\n",
    "until it becomes beautiful.\n",
    "\n",
    " \n",
    "\n",
    "TEST QUESTION FOR EVERY DAY\n",
    "translated by Éva Antal\n",
    "\n",
    "Do you still see\n",
    "what you look at, or you only\n",
    "know: \"there\" \"it\" \"is\"?\n",
    "\n",
    " \n",
    "\n",
    "FROM THE BEST OF INTENTIONS\n",
    "translated by Gábor G. Gyukics and Michael Castro\n",
    "\n",
    "fall asleep;\n",
    "die the same way a child\n",
    "bites into an apple.\n",
    "\n",
    " \n",
    "\n",
    "MEETING\n",
    "translated by Gábor G. Gyukics and Michael Castro\n",
    "\n",
    "I plan it as a farewell\n",
    "\n",
    " \n",
    "\n",
    "THE HAIKU\n",
    "translated by Tamás Révbíró\n",
    "\n",
    "in front of my feet\n",
    "a bird sat, and then took flight.\n",
    "Now I'm heavier.\n",
    "\n",
    " \n",
    "\n",
    "AXIOM\n",
    "translated by Tamás Révbíró\n",
    "\n",
    "You should try and help\n",
    "everything to be the way\n",
    "it is anyway.\n",
    "\n",
    " \n",
    "\n",
    "ECHO ON EPICTETUS\n",
    "translated by Tamás Révbíró\n",
    "\n",
    "Don't say, \"I lost it\",\n",
    "about anything. Rather\n",
    "say, \"I gave it back\".\n",
    "\n",
    " \n",
    "\n",
    "AXIOM\n",
    "translated by Tamás Révbíró\n",
    "\n",
    "Parents and killers:\n",
    "almost-innocent servants.\n",
    "They just execute.\n",
    "\n",
    " \n",
    "\n",
    "ZENsation\n",
    "translated by Tamás Révbíró\n",
    "\n",
    "Look, the snow gives body to the wind!\n",
    "\n",
    " \n",
    "\n",
    "DISILLUSIONIST\n",
    "translated by Tamás Révbíró\n",
    "\n",
    "Why should I travel\n",
    "when I can be a stranger\n",
    "right here, standing still?\"\"\"\n",
    "    "
   ]
  },
  {
   "cell_type": "code",
   "execution_count": 350,
   "id": "cbc11c99",
   "metadata": {},
   "outputs": [],
   "source": [
    "with open('Haikus.txt', 'w') as outstream:\n",
    "    outstream.write(mytext)"
   ]
  },
  {
   "cell_type": "code",
   "execution_count": 351,
   "id": "86686cb8",
   "metadata": {},
   "outputs": [
    {
     "name": "stdout",
     "output_type": "stream",
     "text": [
      "HAIKU\n",
      "\n",
      "for Chrische\n",
      "\n",
      "\n",
      "\n",
      "You shall be missed, dear.\n",
      "\n",
      "Get some very well deserved rest now, \n",
      "\n",
      "until you are like new.\n",
      "\n"
     ]
    }
   ],
   "source": [
    "with open('Haikus.txt', 'r') as instream:\n",
    "    print(instream.readline())\n",
    "    print(instream.readline())\n",
    "    print(instream.readline())\n",
    "    print(instream.readline())\n",
    "    print(instream.readline())\n",
    "    print(instream.readline())"
   ]
  },
  {
   "cell_type": "code",
   "execution_count": null,
   "id": "0d5db106",
   "metadata": {},
   "outputs": [],
   "source": []
  }
 ],
 "metadata": {
  "kernelspec": {
   "display_name": "Python 3",
   "language": "python",
   "name": "python3"
  },
  "language_info": {
   "codemirror_mode": {
    "name": "ipython",
    "version": 3
   },
   "file_extension": ".py",
   "mimetype": "text/x-python",
   "name": "python",
   "nbconvert_exporter": "python",
   "pygments_lexer": "ipython3",
   "version": "3.8.8"
  }
 },
 "nbformat": 4,
 "nbformat_minor": 5
}
